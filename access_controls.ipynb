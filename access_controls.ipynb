{
 "cells": [
  {
   "cell_type": "markdown",
   "metadata": {},
   "source": [
    "#### **Introduction**\n",
    "\n",
    "You’re the first cybersecurity professional hired by a growing business.\n",
    "\n",
    "Recently, a deposit was made from the business to an unknown bank account. The finance manager says they didn’t make a mistake. Fortunately, they were able to stop the payment. The owner has asked you to investigate what happened to prevent any future incidents.\n",
    "\n",
    "To do this, you’ll need to do some accounting on the incident to better understand what happened. First, you will review the access log of the incident. Next, you will take notes that can help you identify a possible threat actor. Then, you will spot issues with the access controls that were exploited by the user. Finally, you will recommend mitigations that can improve the business' access controls and reduce the likelihood that this incident reoccurs.\n",
    "\n"
   ]
  },
  {
   "cell_type": "markdown",
   "metadata": {},
   "source": [
    "#### **Access Controls Worksheet**\n",
    "\n",
    "**Notes:**\n",
    "The event occurred on 10/03/2023 at 8:29:57 AM.\n",
    "The IP address involved in the incident was 152.207.255.255, linked to Robert Taylor Jr., a legal contractor whose employment ended on 12/27/2019.\n",
    "The account used was Legal\\Administrator, likely a high-privilege account.\n",
    "\n",
    "\n",
    "**Issues:**\n",
    "Authorization Issue: The account of Robert Taylor Jr. should have been deactivated upon the end of his contract on 12/27/2019.\n",
    "Access Control Issue: Administrator-level access was retained by a former contractor, which posed an unnecessary risk.\n",
    "Shared cloud drive usage with admin privileges is inherently insecure, as it allows too many users unrestricted access.\n",
    "\n",
    "\n",
    "**Recommendations:**\n",
    "\n",
    "Implement Role-Based Access Control (RBAC):\n",
    "Assign user roles based on the principle of least privilege. Former contractors or temporary staff should not retain admin privileges.\n",
    "Review and update access permissions regularly, especially when an employee’s status changes.\n",
    "\n",
    "\n",
    "**Account Lifecycle Management:**\n",
    "\n",
    "Establish an automated process to disable or delete accounts immediately after an employee's departure or contract termination.\n",
    "Regularly audit active accounts against employee status to ensure compliance.\n",
    "\n",
    "\n",
    "**Monitor and Restrict Administrator Access:**\n",
    "\n",
    "Implement Multi-Factor Authentication (MFA) for all administrator accounts to prevent unauthorized access.\n",
    "Limit the use of administrator privileges to specific tasks and enforce logging of all administrator activities.\n",
    "\n",
    "\n",
    "**Enhance Cloud Storage Security:**\n",
    "\n",
    "Transition from shared cloud drive usage to a more secure, structured document management system with fine-grained access controls.\n",
    "\n",
    "\n",
    "**The above described  measures can significantly reduce the risk of similar incidents in the future.**"
   ]
  }
 ],
 "metadata": {
  "language_info": {
   "name": "python"
  }
 },
 "nbformat": 4,
 "nbformat_minor": 2
}
